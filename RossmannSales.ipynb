{
 "cells": [
  {
   "cell_type": "code",
   "execution_count": 215,
   "metadata": {},
   "outputs": [],
   "source": [
    "import numpy as np\n",
    "import pandas as pd\n",
    "\n",
    "import warnings \n",
    "warnings.filterwarnings('ignore')\n",
    "\n",
    "store = pd.read_csv(\"store.csv\")\n",
    "train = pd.read_csv(\"train.csv\")\n",
    "test = pd.read_csv(\"test.csv\")"
   ]
  },
  {
   "cell_type": "markdown",
   "metadata": {},
   "source": [
    "## Pre-processing the datasets"
   ]
  },
  {
   "cell_type": "code",
   "execution_count": 147,
   "metadata": {},
   "outputs": [
    {
     "name": "stdout",
     "output_type": "stream",
     "text": [
      "<class 'pandas.core.frame.DataFrame'>\n",
      "RangeIndex: 1115 entries, 0 to 1114\n",
      "Data columns (total 10 columns):\n",
      " #   Column                     Non-Null Count  Dtype  \n",
      "---  ------                     --------------  -----  \n",
      " 0   Store                      1115 non-null   int64  \n",
      " 1   StoreType                  1115 non-null   object \n",
      " 2   Assortment                 1115 non-null   object \n",
      " 3   CompetitionDistance        1112 non-null   float64\n",
      " 4   CompetitionOpenSinceMonth  761 non-null    float64\n",
      " 5   CompetitionOpenSinceYear   761 non-null    float64\n",
      " 6   Promo2                     1115 non-null   int64  \n",
      " 7   Promo2SinceWeek            571 non-null    float64\n",
      " 8   Promo2SinceYear            571 non-null    float64\n",
      " 9   PromoInterval              571 non-null    object \n",
      "dtypes: float64(5), int64(2), object(3)\n",
      "memory usage: 87.2+ KB\n"
     ]
    }
   ],
   "source": [
    "store.info()"
   ]
  },
  {
   "cell_type": "code",
   "execution_count": 216,
   "metadata": {},
   "outputs": [
    {
     "name": "stdout",
     "output_type": "stream",
     "text": [
      "Store                          0\n",
      "StoreType                      0\n",
      "Assortment                     0\n",
      "CompetitionDistance            3\n",
      "CompetitionOpenSinceMonth    354\n",
      "CompetitionOpenSinceYear     354\n",
      "Promo2                         0\n",
      "Promo2SinceWeek              544\n",
      "Promo2SinceYear              544\n",
      "PromoInterval                544\n",
      "dtype: int64\n",
      "How many stores do not participate in Promo2: 544\n"
     ]
    }
   ],
   "source": [
    "# Convert float to integer\n",
    "store.CompetitionDistance = store.CompetitionDistance.astype(\"Int64\")\n",
    "store.CompetitionOpenSinceMonth = store.CompetitionOpenSinceMonth.astype(\"Int64\")\n",
    "store.CompetitionOpenSinceYear = store.CompetitionOpenSinceYear.astype(\"Int64\")\n",
    "store.Promo2SinceWeek = store.Promo2SinceWeek.astype(\"Int64\")\n",
    "store.Promo2SinceYear = store.Promo2SinceYear.astype(\"Int64\")\n",
    "\n",
    "# Determine how many null values are in each column\n",
    "print(store.isna().sum())\n",
    "print(\"How many stores do not participate in Promo2:\", (store[\"Promo2\"] == 0).sum())\n",
    "\n",
    "# Remove null values by replacing with the mean of that column\n",
    "store.CompetitionDistance = store[\"CompetitionDistance\"].fillna(store[\"CompetitionDistance\"].mode()[0])\n",
    "\n",
    "store.CompetitionOpenSinceMonth = store[\"CompetitionOpenSinceMonth\"].fillna(store[\"CompetitionOpenSinceMonth\"].mode()[0])\n",
    "store.CompetitionOpenSinceYear = store[\"CompetitionOpenSinceYear\"].fillna(store[\"CompetitionOpenSinceYear\"].mode()[0])\n",
    "\n",
    "# Transform CompetitonOpenSinceYear and CompetitionOpenSinceMonth into a singular date\n",
    "store[\"CompetitionOpenSince\"] = store[[\"CompetitionOpenSinceMonth\",\"CompetitionOpenSinceYear\"]].apply(lambda x: \"-\".join(x.values.astype(str)), axis = \"columns\")\n",
    "store[\"CompetitionOpenSince\"] = pd.to_datetime(store[\"CompetitionOpenSince\"]).dt.to_period(\"M\")\n"
   ]
  },
  {
   "cell_type": "code",
   "execution_count": 149,
   "metadata": {},
   "outputs": [
    {
     "name": "stdout",
     "output_type": "stream",
     "text": [
      "<class 'pandas.core.frame.DataFrame'>\n",
      "RangeIndex: 1017209 entries, 0 to 1017208\n",
      "Data columns (total 9 columns):\n",
      " #   Column         Non-Null Count    Dtype \n",
      "---  ------         --------------    ----- \n",
      " 0   Store          1017209 non-null  int64 \n",
      " 1   DayOfWeek      1017209 non-null  int64 \n",
      " 2   Date           1017209 non-null  object\n",
      " 3   Sales          1017209 non-null  int64 \n",
      " 4   Customers      1017209 non-null  int64 \n",
      " 5   Open           1017209 non-null  int64 \n",
      " 6   Promo          1017209 non-null  int64 \n",
      " 7   StateHoliday   1017209 non-null  object\n",
      " 8   SchoolHoliday  1017209 non-null  int64 \n",
      "dtypes: int64(7), object(2)\n",
      "memory usage: 69.8+ MB\n"
     ]
    }
   ],
   "source": [
    "train.info()"
   ]
  },
  {
   "cell_type": "code",
   "execution_count": 217,
   "metadata": {},
   "outputs": [
    {
     "name": "stdout",
     "output_type": "stream",
     "text": [
      "Store            0\n",
      "DayOfWeek        0\n",
      "Date             0\n",
      "Sales            0\n",
      "Customers        0\n",
      "Open             0\n",
      "Promo            0\n",
      "StateHoliday     0\n",
      "SchoolHoliday    0\n",
      "dtype: int64\n",
      "['0' 'a' 'b' 'c' 0]\n"
     ]
    }
   ],
   "source": [
    "# Convert float to integer\n",
    "train.Store = train.Store.astype(\"Int64\")\n",
    "train.DayOfWeek = train.DayOfWeek.astype(\"Int64\")\n",
    "train.Sales = train.Sales.astype(\"Int64\")\n",
    "train.Customers = train.Customers.astype(\"Int64\")\n",
    "train.Open = train.Open.astype(\"Int64\")\n",
    "train.Promo = train.Promo.astype(\"Int64\")\n",
    "train.SchoolHoliday = train.SchoolHoliday.astype(\"Int64\")\n",
    "\n",
    "# Convert Date to a datetime type\n",
    "train[\"Date\"] = pd.to_datetime(train[\"Date\"])\n",
    "\n",
    "# Check for null values\n",
    "print(train.isna().sum())\n",
    "\n",
    "# Clean issue with unique values in StateHoliday column\n",
    "print(train[\"StateHoliday\"].unique())\n",
    "train[\"StateHoliday\"] = train[\"StateHoliday\"].replace(0, \"0\")\n"
   ]
  },
  {
   "cell_type": "code",
   "execution_count": 201,
   "metadata": {},
   "outputs": [
    {
     "name": "stdout",
     "output_type": "stream",
     "text": [
      "<class 'pandas.core.frame.DataFrame'>\n",
      "RangeIndex: 41088 entries, 0 to 41087\n",
      "Data columns (total 9 columns):\n",
      " #   Column         Non-Null Count  Dtype         \n",
      "---  ------         --------------  -----         \n",
      " 0   Store          41088 non-null  Int64         \n",
      " 1   DayOfWeek      41088 non-null  Int64         \n",
      " 2   Date           41088 non-null  datetime64[ns]\n",
      " 3   Sales          0 non-null      Int64         \n",
      " 4   Customers      0 non-null      Int64         \n",
      " 5   Open           41077 non-null  Int64         \n",
      " 6   Promo          41088 non-null  Int64         \n",
      " 7   StateHoliday   41088 non-null  object        \n",
      " 8   SchoolHoliday  41088 non-null  Int64         \n",
      "dtypes: Int64(7), datetime64[ns](1), object(1)\n",
      "memory usage: 3.1+ MB\n",
      "['0' 'a']\n"
     ]
    }
   ],
   "source": [
    "test.info()\n",
    "print(test[\"StateHoliday\"].unique())"
   ]
  },
  {
   "cell_type": "code",
   "execution_count": 218,
   "metadata": {},
   "outputs": [
    {
     "name": "stdout",
     "output_type": "stream",
     "text": [
      "Store            0\n",
      "DayOfWeek        0\n",
      "Date             0\n",
      "Sales            0\n",
      "Customers        0\n",
      "Open             0\n",
      "Promo            0\n",
      "StateHoliday     0\n",
      "SchoolHoliday    0\n",
      "dtype: int64\n"
     ]
    }
   ],
   "source": [
    "# Convert float to integer\n",
    "test.Store = test.Store.astype(\"Int64\")\n",
    "test.DayOfWeek = test.DayOfWeek.astype(\"Int64\")\n",
    "test.Sales = test.Sales.astype(\"Int64\")\n",
    "test.Customers = test.Customers.astype(\"Int64\")\n",
    "test.Open = test.Open.astype(\"Int64\")\n",
    "test.Promo = test.Promo.astype(\"Int64\")\n",
    "test.SchoolHoliday = test.SchoolHoliday.astype(\"Int64\")\n",
    "\n",
    "# Convert Date to a datetime type\n",
    "test[\"Date\"] = pd.to_datetime(test[\"Date\"])\n",
    "\n",
    "# Check for null values\n",
    "print(train.isna().sum())"
   ]
  },
  {
   "cell_type": "markdown",
   "metadata": {},
   "source": [
    "## Exploratory Data Analysis (EDA)"
   ]
  },
  {
   "cell_type": "code",
   "execution_count": 154,
   "metadata": {},
   "outputs": [
    {
     "data": {
      "text/plain": [
       "<AxesSubplot:title={'center':'Customer Relative to Promo'}, xlabel='Promo', ylabel='Customers'>"
      ]
     },
     "execution_count": 154,
     "metadata": {},
     "output_type": "execute_result"
    },
    {
     "data": {
      "image/png": "[encoded data removed]",
      "text/plain": [
       "<Figure size 1440x720 with 2 Axes>"
      ]
     },
     "metadata": {
      "needs_background": "light"
     },
     "output_type": "display_data"
    }
   ],
   "source": [
    "import matplotlib.pyplot as plt\n",
    "import seaborn as sns\n",
    "\n",
    "fig, (axis1, axis2) = plt.subplots(1, 2, figsize = (20, 10))\n",
    "\n",
    "axis1.title.set_text(\"Sales Relative to Promo\")\n",
    "axis2.title.set_text(\"Customers Relative to Promo\")\n",
    "sns.barplot(x = \"Promo\", y = \"Sales\", data = train, ax = axis1)\n",
    "sns.barplot(x = \"Promo\", y = \"Customers\", data = train, ax = axis2)"
   ]
  },
  {
   "cell_type": "code",
   "execution_count": 158,
   "metadata": {},
   "outputs": [
    {
     "data": {
      "text/plain": [
       "<AxesSubplot:title={'center':'Customers Relative To The Day Of The Week'}, xlabel='DayOfWeek', ylabel='Customers'>"
      ]
     },
     "execution_count": 158,
     "metadata": {},
     "output_type": "execute_result"
    },
    {
     "data": {
      "image/png": "[encoded data removed]",
      "text/plain": [
       "<Figure size 1440x720 with 2 Axes>"
      ]
     },
     "metadata": {
      "needs_background": "light"
     },
     "output_type": "display_data"
    }
   ],
   "source": [
    "fig, (axis1, axis2) = plt.subplots(1, 2, figsize = (20, 10))\n",
    "\n",
    "axis1.title.set_text(\"Sales Relative To The Day Of The Week\")\n",
    "axis2.title.set_text(\"Customers Relative To The Day Of The Week\")\n",
    "axis1.set(xlabel = \"Day Of The Week\")\n",
    "axis2.set(xlabel = \"Day Of The Week\")\n",
    "sns.barplot(x = \"DayOfWeek\", y = \"Sales\", data = train, order = [1, 2, 3, 4, 5, 6, 7], ax = axis1)\n",
    "sns.barplot(x = \"DayOfWeek\", y = \"Customers\", data = train, order = [1, 2, 3, 4, 5, 6, 7], ax = axis2)"
   ]
  },
  {
   "cell_type": "code",
   "execution_count": 159,
   "metadata": {},
   "outputs": [
    {
     "data": {
      "text/plain": [
       "<AxesSubplot:title={'center':'Customers Relative To The Day Of The Week When Store Are Open'}, xlabel='DayOfWeek', ylabel='Customers'>"
      ]
     },
     "execution_count": 159,
     "metadata": {},
     "output_type": "execute_result"
    },
    {
     "data": {
      "image/png": "[encoded data removed]",
      "text/plain": [
       "<Figure size 1440x720 with 2 Axes>"
      ]
     },
     "metadata": {
      "needs_background": "light"
     },
     "output_type": "display_data"
    }
   ],
   "source": [
    "store_open = train.loc[train[\"Open\"] == 1]\n",
    "\n",
    "fig, (axis1, axis2) = plt.subplots(1, 2, figsize = (20, 10))\n",
    "\n",
    "axis1.title.set_text(\"Sales Relative To The Day Of The Week When Stores Are Open\")\n",
    "axis2.title.set_text(\"Customers Relative To The Day Of The Week When Store Are Open\")\n",
    "axis1.set(xlabel = \"Day Of The Week\")\n",
    "axis2.set(xlabel = \"Day Of The Week\")\n",
    "sns.barplot(x = \"DayOfWeek\", y = \"Sales\", data = store_open, order = [1, 2, 3, 4, 5, 6, 7], ax = axis1)\n",
    "sns.barplot(x = \"DayOfWeek\", y = \"Customers\", data = store_open, order = [1, 2, 3, 4, 5, 6, 7], ax = axis2)"
   ]
  },
  {
   "cell_type": "code",
   "execution_count": 219,
   "metadata": {},
   "outputs": [],
   "source": [
    "# Merging the datasets for further analysis\n",
    "trainmerged = pd.merge(train, store, on = \"Store\")\n",
    "testmerged = pd.merge(test, store, on = \"Store\")"
   ]
  },
  {
   "cell_type": "code",
   "execution_count": 161,
   "metadata": {},
   "outputs": [
    {
     "data": {
      "text/plain": [
       "<AxesSubplot:title={'center':'Customers Relative To The Day Of The Week'}, xlabel='StoreType', ylabel='Customers'>"
      ]
     },
     "execution_count": 161,
     "metadata": {},
     "output_type": "execute_result"
    },
    {
     "data": {
      "image/png": "[encoded data removed]",
      "text/plain": [
       "<Figure size 1440x720 with 2 Axes>"
      ]
     },
     "metadata": {
      "needs_background": "light"
     },
     "output_type": "display_data"
    }
   ],
   "source": [
    "fig, (axis1, axis2) = plt.subplots(1, 2, figsize = (20, 10))\n",
    "\n",
    "axis1.title.set_text(\"Sales Relative To The Store Type\")\n",
    "axis2.title.set_text(\"Customers Relative To The Store Type\")\n",
    "sns.barplot(x = \"StoreType\", y = \"Sales\", data = trainmerged, order = [\"a\", \"b\", \"c\", \"d\"], ax = axis1)\n",
    "sns.barplot(x = \"StoreType\", y = \"Customers\", data = trainmerged, order = [\"a\", \"b\", \"c\", \"d\"], ax = axis2)"
   ]
  },
  {
   "cell_type": "code",
   "execution_count": 162,
   "metadata": {},
   "outputs": [
    {
     "data": {
      "text/plain": [
       "<AxesSubplot:title={'center':'Customers Relative To The Day Of The Week'}, xlabel='Assortment', ylabel='Customers'>"
      ]
     },
     "execution_count": 162,
     "metadata": {},
     "output_type": "execute_result"
    },
    {
     "data": {
      "image/png": "[encoded data removed]",
      "text/plain": [
       "<Figure size 1440x720 with 2 Axes>"
      ]
     },
     "metadata": {
      "needs_background": "light"
     },
     "output_type": "display_data"
    }
   ],
   "source": [
    "fig, (axis1, axis2) = plt.subplots(1, 2, figsize = (20, 10))\n",
    "\n",
    "axis1.title.set_text(\"Sales Relative To The Day Of The Week\")\n",
    "axis2.title.set_text(\"Customers Relative To The Day Of The Week\")\n",
    "sns.barplot(x = \"Assortment\", y = \"Sales\", data = trainmerged, order = [\"a\", \"b\", \"c\"], ax = axis1)\n",
    "sns.barplot(x = \"Assortment\", y = \"Customers\", data = trainmerged, order = [\"a\", \"b\", \"c\"], ax = axis2)"
   ]
  },
  {
   "cell_type": "code",
   "execution_count": 163,
   "metadata": {},
   "outputs": [
    {
     "data": {
      "text/plain": [
       "<AxesSubplot:title={'center':'Customers Relative To Whether Promo2 is in Operation'}, xlabel='Promo2', ylabel='Customers'>"
      ]
     },
     "execution_count": 163,
     "metadata": {},
     "output_type": "execute_result"
    },
    {
     "data": {
      "image/png": "[encoded data removed]",
      "text/plain": [
       "<Figure size 1440x720 with 2 Axes>"
      ]
     },
     "metadata": {
      "needs_background": "light"
     },
     "output_type": "display_data"
    }
   ],
   "source": [
    "fig, (axis1, axis2) = plt.subplots(1, 2, figsize = (20, 10))\n",
    "\n",
    "axis1.title.set_text(\"Sales Relative To Whether Promo2 is in Operation\")\n",
    "axis2.title.set_text(\"Customers Relative To Whether Promo2 is in Operation\")\n",
    "sns.barplot(x = \"Promo2\", y = \"Sales\", data = trainmerged, ax = axis1)\n",
    "sns.barplot(x = \"Promo2\", y = \"Customers\", data = trainmerged, ax = axis2)"
   ]
  },
  {
   "cell_type": "markdown",
   "metadata": {},
   "source": [
    "## Machine Learning\n",
    "### Application of Ridge, Lasso and Random Forest Regression\n",
    "### Performing Cross-validation on the best performing model"
   ]
  },
  {
   "cell_type": "code",
   "execution_count": 221,
   "metadata": {},
   "outputs": [
    {
     "name": "stdout",
     "output_type": "stream",
     "text": [
      "<class 'pandas.core.frame.DataFrame'>\n",
      "Int64Index: 41088 entries, 0 to 41087\n",
      "Data columns (total 28 columns):\n",
      " #   Column                Non-Null Count  Dtype         \n",
      "---  ------                --------------  -----         \n",
      " 0   Store                 41088 non-null  Int64         \n",
      " 1   Date                  41088 non-null  datetime64[ns]\n",
      " 2   Sales                 0 non-null      Int64         \n",
      " 3   Customers             0 non-null      Int64         \n",
      " 4   Open                  41077 non-null  Int64         \n",
      " 5   Promo                 41088 non-null  Int64         \n",
      " 6   SchoolHoliday         41088 non-null  Int64         \n",
      " 7   CompetitionDistance   41088 non-null  Int64         \n",
      " 8   Promo2                41088 non-null  int64         \n",
      " 9   CompetitionOpenSince  41088 non-null  period[M]     \n",
      " 10  DayOfWeek_1           41088 non-null  uint8         \n",
      " 11  DayOfWeek_2           41088 non-null  uint8         \n",
      " 12  DayOfWeek_3           41088 non-null  uint8         \n",
      " 13  DayOfWeek_4           41088 non-null  uint8         \n",
      " 14  DayOfWeek_5           41088 non-null  uint8         \n",
      " 15  DayOfWeek_6           41088 non-null  uint8         \n",
      " 16  DayOfWeek_7           41088 non-null  uint8         \n",
      " 17  StateHoliday_0        41088 non-null  uint8         \n",
      " 18  StateHoliday_a        41088 non-null  uint8         \n",
      " 19  StateHoliday_b        41088 non-null  uint8         \n",
      " 20  StateHoliday_c        41088 non-null  uint8         \n",
      " 21  StoreType_a           41088 non-null  uint8         \n",
      " 22  StoreType_b           41088 non-null  uint8         \n",
      " 23  StoreType_c           41088 non-null  uint8         \n",
      " 24  StoreType_d           41088 non-null  uint8         \n",
      " 25  Assortment_a          41088 non-null  uint8         \n",
      " 26  Assortment_b          41088 non-null  uint8         \n",
      " 27  Assortment_c          41088 non-null  uint8         \n",
      "dtypes: Int64(7), datetime64[ns](1), int64(1), period[M](1), uint8(18)\n",
      "memory usage: 4.4 MB\n"
     ]
    }
   ],
   "source": [
    "# Confirm that the datasets have a matching format\n",
    "training = trainmerged.drop([\"CompetitionOpenSinceMonth\", \"CompetitionOpenSinceYear\", \"Promo2SinceWeek\", \"Promo2SinceYear\", \"PromoInterval\"], axis = 1)\n",
    "training = pd.get_dummies(training, columns = [\"DayOfWeek\", \"StateHoliday\", \"StoreType\", \"Assortment\"])\n",
    "print(training.info())\n",
    "\n",
    "testing = testmerged.drop([\"CompetitionOpenSinceMonth\", \"CompetitionOpenSinceYear\", \"Promo2SinceWeek\", \"Promo2SinceYear\", \"PromoInterval\"], axis = 1)\n",
    "testing = pd.get_dummies(testing, columns = [\"DayOfWeek\", \"StateHoliday\"])\n",
    "testing[\"StateHoliday_b\"] = 0\n",
    "testing[\"StateHoliday_c\"] = 0\n",
    "testing.StateHoliday_b = testing.StateHoliday_b.astype(\"uint8\")\n",
    "testing.StateHoliday_c = testing.StateHoliday_c.astype(\"uint8\")\n",
    "testing = pd.get_dummies(testing, columns = [\"StoreType\", \"Assortment\"])\n",
    "print(testing.info())"
   ]
  },
  {
   "cell_type": "code",
   "execution_count": 222,
   "metadata": {},
   "outputs": [],
   "source": [
    "# Log of sales\n",
    "training['Sales'] = training['Sales'].apply(lambda x: max(x, 1))\n",
    "training[\"Sales_Log\"] = np.log(training[\"Sales\"])"
   ]
  },
  {
   "cell_type": "code",
   "execution_count": null,
   "metadata": {},
   "outputs": [],
   "source": [
    "# Checking for multicollinearity within the data\n",
    "fig, ax = plt.subplots(figsize=(20,20))\n",
    "sns.set()\n",
    "sns.color_palette('rocket_r', as_cmap = True)\n",
    "sns.heatmap(training.corr())\n",
    "plt.xticks(rotation=90)\n",
    "plt.show()"
   ]
  },
  {
   "cell_type": "code",
   "execution_count": 224,
   "metadata": {},
   "outputs": [],
   "source": [
    "from sklearn.model_selection import train_test_split\n",
    "\n",
    "X = training.drop([\"Sales\", \"Sales_Log\", \"Customers\", \"Date\", \"CompetitionOpenSince\"], axis = 1)\n",
    "y = training[\"Sales_Log\"]\n",
    "\n",
    "X_train, X_val, y_train, y_val = train_test_split(X, y, test_size = 0.2, random_state = 42)"
   ]
  },
  {
   "cell_type": "code",
   "execution_count": 225,
   "metadata": {},
   "outputs": [
    {
     "name": "stdout",
     "output_type": "stream",
     "text": [
      "The performance of the model on the validation data: 0.9890398244333294\n",
      "The RMSE of the model on the validation data: 0.3473320462834762\n"
     ]
    }
   ],
   "source": [
    "# Ridge Regression\n",
    "from sklearn.linear_model import Ridge\n",
    "from sklearn.metrics import mean_squared_error\n",
    "\n",
    "ridge_reg = Ridge(alpha = 1.0)\n",
    "ridge_reg.fit(X_train, y_train)\n",
    "ridge_prediction = ridge_reg.predict(X_val)\n",
    "ridge_rmse = np.sqrt(mean_squared_error(y_val, ridge_prediction))\n",
    "print(\"The performance of the model on the validation data:\", ridge_reg.score(X_val, y_val))\n",
    "print(\"The RMSE of the model on the validation data:\", ridge_rmse)"
   ]
  },
  {
   "cell_type": "code",
   "execution_count": 226,
   "metadata": {},
   "outputs": [
    {
     "name": "stdout",
     "output_type": "stream",
     "text": [
      "The performance of the model on the validation data: 0.3383691122300765\n",
      "The RMSE of the model on the validation data: 2.698633985155954\n"
     ]
    }
   ],
   "source": [
    "# Lasso Regression\n",
    "from sklearn.linear_model import Lasso\n",
    "from sklearn.metrics import mean_squared_error\n",
    "\n",
    "lasso_reg = Lasso(alpha = 1.0)\n",
    "lasso_reg.fit(X_train, y_train)\n",
    "lasso_prediction = lasso_reg.predict(X_val)\n",
    "lasso_rmse = np.sqrt(mean_squared_error(y_val, lasso_prediction))\n",
    "print(\"The performance of the model on the validation data:\", lasso_reg.score(X_val, y_val))\n",
    "print(\"The RMSE of the model on the validation data:\", lasso_rmse)"
   ]
  },
  {
   "cell_type": "code",
   "execution_count": 227,
   "metadata": {},
   "outputs": [
    {
     "name": "stdout",
     "output_type": "stream",
     "text": [
      "The performance of the model on the validation data: 0.9975679406549132\n",
      "The RMSE of the model on the validation data: 0.16361502515966053\n"
     ]
    }
   ],
   "source": [
    "# Random Forest Regression\n",
    "from sklearn.ensemble import RandomForestRegressor\n",
    "\n",
    "rfr_reg = RandomForestRegressor(n_estimators = 100, random_state = 42)\n",
    "rfr_reg.fit(X_train, y_train)\n",
    "rfr_prediction = rfr_reg.predict(X_val)\n",
    "rfr_rmse = np.sqrt(mean_squared_error(y_val, rfr_prediction))\n",
    "print(\"The performance of the model on the validation data:\", rfr_reg.score(X_val, y_val))\n",
    "print(\"The RMSE of the model on the validation data:\", rfr_rmse)"
   ]
  },
  {
   "cell_type": "code",
   "execution_count": 257,
   "metadata": {},
   "outputs": [
    {
     "name": "stdout",
     "output_type": "stream",
     "text": [
      "[0.98971606 0.98603015 0.98699692 0.98324782 0.98408568 0.98553262\n",
      " 0.9857012 ]\n"
     ]
    }
   ],
   "source": [
    "# Cross validation of Random Forest Regression \n",
    "from sklearn.model_selection import cross_val_score\n",
    "\n",
    "cv_scores = cross_val_score(rfr_reg, X , y , cv=7)\n",
    "print(cv_scores)"
   ]
  },
  {
   "cell_type": "markdown",
   "metadata": {},
   "source": [
    "# Final predictions on the test data"
   ]
  },
  {
   "cell_type": "code",
   "execution_count": 265,
   "metadata": {},
   "outputs": [
    {
     "name": "stdout",
     "output_type": "stream",
     "text": [
      "       Store  Open  Promo  SchoolHoliday  CompetitionDistance  Promo2  \\\n",
      "22992    622  <NA>      1              0                  250       0   \n",
      "22993    622  <NA>      1              0                  250       0   \n",
      "22994    622  <NA>      1              0                  250       0   \n",
      "22995    622  <NA>      1              0                  250       0   \n",
      "22997    622  <NA>      0              0                  250       0   \n",
      "\n",
      "       DayOfWeek_1  DayOfWeek_2  DayOfWeek_3  DayOfWeek_4  ...  \\\n",
      "22992            0            0            0            1  ...   \n",
      "22993            0            0            1            0  ...   \n",
      "22994            0            1            0            0  ...   \n",
      "22995            1            0            0            0  ...   \n",
      "22997            0            0            0            0  ...   \n",
      "\n",
      "       StateHoliday_a  StateHoliday_b  StateHoliday_c  StoreType_a  \\\n",
      "22992               0               0               0            1   \n",
      "22993               0               0               0            1   \n",
      "22994               0               0               0            1   \n",
      "22995               0               0               0            1   \n",
      "22997               0               0               0            1   \n",
      "\n",
      "       StoreType_b  StoreType_c  StoreType_d  Assortment_a  Assortment_b  \\\n",
      "22992            0            0            0             0             0   \n",
      "22993            0            0            0             0             0   \n",
      "22994            0            0            0             0             0   \n",
      "22995            0            0            0             0             0   \n",
      "22997            0            0            0             0             0   \n",
      "\n",
      "       Assortment_c  \n",
      "22992             1  \n",
      "22993             1  \n",
      "22994             1  \n",
      "22995             1  \n",
      "22997             1  \n",
      "\n",
      "[5 rows x 24 columns]\n",
      "Store                  0\n",
      "Open                   0\n",
      "Promo                  0\n",
      "SchoolHoliday          0\n",
      "CompetitionDistance    0\n",
      "Promo2                 0\n",
      "DayOfWeek_1            0\n",
      "DayOfWeek_2            0\n",
      "DayOfWeek_3            0\n",
      "DayOfWeek_4            0\n",
      "DayOfWeek_5            0\n",
      "DayOfWeek_6            0\n",
      "DayOfWeek_7            0\n",
      "StateHoliday_0         0\n",
      "StateHoliday_a         0\n",
      "StateHoliday_b         0\n",
      "StateHoliday_c         0\n",
      "StoreType_a            0\n",
      "StoreType_b            0\n",
      "StoreType_c            0\n",
      "StoreType_d            0\n",
      "Assortment_a           0\n",
      "Assortment_b           0\n",
      "Assortment_c           0\n",
      "dtype: int64\n"
     ]
    }
   ],
   "source": [
    "X_test = testing.drop([\"Sales\", \"Customers\", \"Date\", \"CompetitionOpenSince\"], axis = 1)\n",
    "\n",
    "# CLean X_test dataset\n",
    "print(X_test.loc[X_test[\"Open\"].isnull()].head())\n",
    "store622 = X_test.loc[X_test[\"Store\"] == 622]\n",
    "X_test.Open = X_test[\"Open\"].fillna(value = 1)\n",
    "print(X_test.isna().sum())"
   ]
  },
  {
   "cell_type": "code",
   "execution_count": 267,
   "metadata": {},
   "outputs": [],
   "source": [
    "# Predict results using random forest regression\n",
    "results = rfr_reg.predict(X_test)\n",
    "\n",
    "# Input results into the testing dataset\n",
    "testing[\"Sales\"] = np.exp(results)"
   ]
  },
  {
   "cell_type": "code",
   "execution_count": 268,
   "metadata": {},
   "outputs": [
    {
     "data": {
      "text/html": [
       "<div>\n",
       "<style scoped>\n",
       "    .dataframe tbody tr th:only-of-type {\n",
       "        vertical-align: middle;\n",
       "    }\n",
       "\n",
       "    .dataframe tbody tr th {\n",
       "        vertical-align: top;\n",
       "    }\n",
       "\n",
       "    .dataframe thead th {\n",
       "        text-align: right;\n",
       "    }\n",
       "</style>\n",
       "<table border=\"1\" class=\"dataframe\">\n",
       "  <thead>\n",
       "    <tr style=\"text-align: right;\">\n",
       "      <th></th>\n",
       "      <th>Store</th>\n",
       "      <th>Date</th>\n",
       "      <th>Sales</th>\n",
       "      <th>Customers</th>\n",
       "      <th>Open</th>\n",
       "      <th>Promo</th>\n",
       "      <th>SchoolHoliday</th>\n",
       "      <th>CompetitionDistance</th>\n",
       "      <th>Promo2</th>\n",
       "      <th>CompetitionOpenSince</th>\n",
       "      <th>...</th>\n",
       "      <th>StateHoliday_a</th>\n",
       "      <th>StateHoliday_b</th>\n",
       "      <th>StateHoliday_c</th>\n",
       "      <th>StoreType_a</th>\n",
       "      <th>StoreType_b</th>\n",
       "      <th>StoreType_c</th>\n",
       "      <th>StoreType_d</th>\n",
       "      <th>Assortment_a</th>\n",
       "      <th>Assortment_b</th>\n",
       "      <th>Assortment_c</th>\n",
       "    </tr>\n",
       "  </thead>\n",
       "  <tbody>\n",
       "    <tr>\n",
       "      <th>0</th>\n",
       "      <td>1</td>\n",
       "      <td>2015-09-17</td>\n",
       "      <td>4931.033517</td>\n",
       "      <td>&lt;NA&gt;</td>\n",
       "      <td>1</td>\n",
       "      <td>1</td>\n",
       "      <td>0</td>\n",
       "      <td>1270</td>\n",
       "      <td>0</td>\n",
       "      <td>2008-09</td>\n",
       "      <td>...</td>\n",
       "      <td>0</td>\n",
       "      <td>0</td>\n",
       "      <td>0</td>\n",
       "      <td>0</td>\n",
       "      <td>0</td>\n",
       "      <td>1</td>\n",
       "      <td>0</td>\n",
       "      <td>1</td>\n",
       "      <td>0</td>\n",
       "      <td>0</td>\n",
       "    </tr>\n",
       "    <tr>\n",
       "      <th>1</th>\n",
       "      <td>1</td>\n",
       "      <td>2015-09-16</td>\n",
       "      <td>5025.146176</td>\n",
       "      <td>&lt;NA&gt;</td>\n",
       "      <td>1</td>\n",
       "      <td>1</td>\n",
       "      <td>0</td>\n",
       "      <td>1270</td>\n",
       "      <td>0</td>\n",
       "      <td>2008-09</td>\n",
       "      <td>...</td>\n",
       "      <td>0</td>\n",
       "      <td>0</td>\n",
       "      <td>0</td>\n",
       "      <td>0</td>\n",
       "      <td>0</td>\n",
       "      <td>1</td>\n",
       "      <td>0</td>\n",
       "      <td>1</td>\n",
       "      <td>0</td>\n",
       "      <td>0</td>\n",
       "    </tr>\n",
       "    <tr>\n",
       "      <th>2</th>\n",
       "      <td>1</td>\n",
       "      <td>2015-09-15</td>\n",
       "      <td>5302.725513</td>\n",
       "      <td>&lt;NA&gt;</td>\n",
       "      <td>1</td>\n",
       "      <td>1</td>\n",
       "      <td>0</td>\n",
       "      <td>1270</td>\n",
       "      <td>0</td>\n",
       "      <td>2008-09</td>\n",
       "      <td>...</td>\n",
       "      <td>0</td>\n",
       "      <td>0</td>\n",
       "      <td>0</td>\n",
       "      <td>0</td>\n",
       "      <td>0</td>\n",
       "      <td>1</td>\n",
       "      <td>0</td>\n",
       "      <td>1</td>\n",
       "      <td>0</td>\n",
       "      <td>0</td>\n",
       "    </tr>\n",
       "    <tr>\n",
       "      <th>3</th>\n",
       "      <td>1</td>\n",
       "      <td>2015-09-14</td>\n",
       "      <td>5795.535405</td>\n",
       "      <td>&lt;NA&gt;</td>\n",
       "      <td>1</td>\n",
       "      <td>1</td>\n",
       "      <td>0</td>\n",
       "      <td>1270</td>\n",
       "      <td>0</td>\n",
       "      <td>2008-09</td>\n",
       "      <td>...</td>\n",
       "      <td>0</td>\n",
       "      <td>0</td>\n",
       "      <td>0</td>\n",
       "      <td>0</td>\n",
       "      <td>0</td>\n",
       "      <td>1</td>\n",
       "      <td>0</td>\n",
       "      <td>1</td>\n",
       "      <td>0</td>\n",
       "      <td>0</td>\n",
       "    </tr>\n",
       "    <tr>\n",
       "      <th>4</th>\n",
       "      <td>1</td>\n",
       "      <td>2015-09-13</td>\n",
       "      <td>1.000000</td>\n",
       "      <td>&lt;NA&gt;</td>\n",
       "      <td>0</td>\n",
       "      <td>0</td>\n",
       "      <td>0</td>\n",
       "      <td>1270</td>\n",
       "      <td>0</td>\n",
       "      <td>2008-09</td>\n",
       "      <td>...</td>\n",
       "      <td>0</td>\n",
       "      <td>0</td>\n",
       "      <td>0</td>\n",
       "      <td>0</td>\n",
       "      <td>0</td>\n",
       "      <td>1</td>\n",
       "      <td>0</td>\n",
       "      <td>1</td>\n",
       "      <td>0</td>\n",
       "      <td>0</td>\n",
       "    </tr>\n",
       "  </tbody>\n",
       "</table>\n",
       "<p>5 rows × 28 columns</p>\n",
       "</div>"
      ],
      "text/plain": [
       "   Store       Date        Sales  Customers  Open  Promo  SchoolHoliday  \\\n",
       "0      1 2015-09-17  4931.033517       <NA>     1      1              0   \n",
       "1      1 2015-09-16  5025.146176       <NA>     1      1              0   \n",
       "2      1 2015-09-15  5302.725513       <NA>     1      1              0   \n",
       "3      1 2015-09-14  5795.535405       <NA>     1      1              0   \n",
       "4      1 2015-09-13     1.000000       <NA>     0      0              0   \n",
       "\n",
       "   CompetitionDistance  Promo2 CompetitionOpenSince  ...  StateHoliday_a  \\\n",
       "0                 1270       0              2008-09  ...               0   \n",
       "1                 1270       0              2008-09  ...               0   \n",
       "2                 1270       0              2008-09  ...               0   \n",
       "3                 1270       0              2008-09  ...               0   \n",
       "4                 1270       0              2008-09  ...               0   \n",
       "\n",
       "   StateHoliday_b  StateHoliday_c  StoreType_a  StoreType_b  StoreType_c  \\\n",
       "0               0               0            0            0            1   \n",
       "1               0               0            0            0            1   \n",
       "2               0               0            0            0            1   \n",
       "3               0               0            0            0            1   \n",
       "4               0               0            0            0            1   \n",
       "\n",
       "   StoreType_d  Assortment_a  Assortment_b  Assortment_c  \n",
       "0            0             1             0             0  \n",
       "1            0             1             0             0  \n",
       "2            0             1             0             0  \n",
       "3            0             1             0             0  \n",
       "4            0             1             0             0  \n",
       "\n",
       "[5 rows x 28 columns]"
      ]
     },
     "execution_count": 268,
     "metadata": {},
     "output_type": "execute_result"
    }
   ],
   "source": [
    "testing.head()"
   ]
  }
 ],
 "metadata": {
  "kernelspec": {
   "display_name": "Python 3",
   "language": "python",
   "name": "python3"
  },
  "language_info": {
   "codemirror_mode": {
    "name": "ipython",
    "version": 3
   },
   "file_extension": ".py",
   "mimetype": "text/x-python",
   "name": "python",
   "nbconvert_exporter": "python",
   "pygments_lexer": "ipython3",
   "version": "3.9.12"
  }
 },
 "nbformat": 4,
 "nbformat_minor": 2
}
